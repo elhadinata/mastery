{
 "cells": [
  {
   "cell_type": "code",
   "execution_count": null,
   "metadata": {},
   "outputs": [],
   "source": [
    "import pandas as pd\n",
    "from pandas.io import sql\n",
    "import numpy as np\n",
    "\n",
    "from sklearn import datasets\n",
    "from sklearn.linear_model import LinearRegression\n",
    "from sklearn.ensemble import RandomForestRegressor\n",
    "from sklearn.model_selection import train_test_split\n",
    "from sklearn.metrics import mean_squared_error\n"
   ]
  },
  {
   "cell_type": "code",
   "execution_count": null,
   "metadata": {},
   "outputs": [],
   "source": [
    "airbnb_file=\"data/singapore-airbnb/listings.csv\"\n",
    "o_df = pd.read_csv(airbnb_file)\n",
    "o_df = o_df.fillna(0)\n",
    "o_df.head(5)"
   ]
  },
  {
   "cell_type": "code",
   "execution_count": 23,
   "metadata": {},
   "outputs": [
    {
     "data": {
      "text/plain": [
       "array([ 180,   90,    6,    1,   15,   30,    2,    4,   92,    3,   60,\n",
       "        365,    5,   18,   28,   32,    9,    7,  108,   14,  183,   21,\n",
       "         10,   13,   12,   84,   70,   29,    8,   25,   24,   93,   20,\n",
       "         80,   50,  200,  120,  100,  150,  190,   91,   45,   31,  500,\n",
       "         11,   26,  360,   17,  188,   88,  185,  240,   75,  356,  210,\n",
       "         59,   89, 1000,   85,  186,   19,   48,  181,   40,   22,  700,\n",
       "         96,   55,   62,   65,   35,   16,   27])"
      ]
     },
     "execution_count": 23,
     "metadata": {},
     "output_type": "execute_result"
    }
   ],
   "source": [
    "o_df['minimum_nights'].unique()"
   ]
  },
  {
   "cell_type": "code",
   "execution_count": null,
   "metadata": {},
   "outputs": [],
   "source": [
    "\n",
    "class ML_model:\n",
    "    def __init__(self):\n",
    "        \n",
    "        self.price_model = RandomForestRegressor(n_estimators=110, max_depth=10)\n",
    "        self.data = pd.DataFrame(data={})\n",
    "        self.geo_dict = {}\n",
    "        \n",
    "    def prep_price_preds(self, o_df):\n",
    "        higher_b = o_df[\"price\"].quantile(0.99)\n",
    "        lower_b = o_df[\"price\"].quantile(0.005)\n",
    "\n",
    "        m_df = o_df[o_df['price'] <=higher_b]\n",
    "        df = m_df[m_df['price'] >= lower_b].copy()\n",
    "        df.drop(\"id\", axis=1,inplace=True)\n",
    "        df.drop(\"host_name\", axis=1,inplace=True)\n",
    "        df.drop(\"host_id\", axis=1,inplace=True)\n",
    "        df.drop(\"last_review\", axis=1,inplace=True)\n",
    "        df.drop(\"name\", axis=1,inplace=True)\n",
    "        df.drop(\"calculated_host_listings_count\", axis=1,inplace=True)\n",
    "\n",
    "        neighbours = list(df[\"neighbourhood\"].unique())\n",
    "        neighbours_dict = {}\n",
    "        for i in range(len(neighbours)):\n",
    "            neighbours_dict[neighbours[i]] = i\n",
    "\n",
    "\n",
    "        room_types = []\n",
    "        for index, row in df.iterrows():\n",
    "            if row['room_type'] == \"Private room\":\n",
    "                room_types.append(0)\n",
    "            elif row['room_type'] == \"Entire home/apt\":\n",
    "                room_types.append(1)\n",
    "            else:\n",
    "                room_types.append(2)\n",
    "        df[\"room_type\"] = room_types\n",
    "\n",
    "        neighbourhood_groups = []\n",
    "        for index, row in df.iterrows():\n",
    "            if row['neighbourhood_group'] == \"North Region\":\n",
    "                neighbourhood_groups.append(0)\n",
    "            elif row['neighbourhood_group'] == \"Central Region\":\n",
    "                neighbourhood_groups.append(1)\n",
    "            elif row['neighbourhood_group'] == \"East Region\":\n",
    "                neighbourhood_groups.append(2)\n",
    "            elif row['neighbourhood_group'] == \"West Region\":\n",
    "                neighbourhood_groups.append(3)\n",
    "            else:\n",
    "                neighbourhood_groups.append(4)\n",
    "        df[\"neighbourhood_group\"] = neighbourhood_groups\n",
    "\n",
    "\n",
    "        neighbour_types = []\n",
    "        for index, row in df.iterrows():\n",
    "                neighbour_types.append(neighbours_dict[row[\"neighbourhood\"]])\n",
    "        df[\"neighbourhood\"] = neighbour_types\n",
    "\n",
    "\n",
    "        for column in df.columns:\n",
    "            df[column] = pd.to_numeric(df[column])\n",
    "        self.data =  df\n",
    "    \n",
    "    \n",
    "        for index, row in ml_model.data.iterrows(): \n",
    "            if row['neighbourhood_group'] not in self.geo_dict:\n",
    "                self.geo_dict[row['neighbourhood_group']]={}\n",
    "            if row['neighbourhood'] not in self.geo_dict[row['neighbourhood_group']]:\n",
    "                self.geo_dict[row['neighbourhood_group']][row['neighbourhood']] = [0,0]\n",
    "\n",
    "        for key in self.geo_dict.keys():\n",
    "\n",
    "            t_df = ml_model.data[ml_model.data['neighbourhood_group'] == key]\n",
    "            for neigh in self.geo_dict[key].keys():\n",
    "\n",
    "                df = t_df[t_df['neighbourhood'] == neigh]\n",
    "                self.geo_dict[key][neigh][0] = df['latitude'].mean(skipna = True) \n",
    "                self.geo_dict[key][neigh][1] = df['longitude'].mean(skipna = True)     \n",
    "        \n",
    "    \n",
    "    def build_model(self):\n",
    "        X = self.data.drop(\"price\",axis=1).values\n",
    "        y = self.data[\"price\"].values\n",
    "        X_train, X_test, y_train, y_test = train_test_split(X, y, test_size=0.1, random_state=66)\n",
    "\n",
    "        #model = RandomForestRegressor(n_estimators=110, max_depth=10)\n",
    "        self.price_model.fit(X_train,y_train)\n",
    "        preds = self.price_model.predict(X_test)\n",
    "        #print(X_test)\n",
    "        return mean_squared_error(y_test,preds)\n",
    "        \n",
    "        \n",
    "        \n",
    "        \n",
    "    def price_prediction(self, df,queries=[]):\n",
    "        \n",
    "        preds = self.price_model.predict(X_test)\n",
    "        print(X_test)\n",
    "        return mean_squared_error(y_test,preds)\n",
    "\n",
    "    "
   ]
  },
  {
   "cell_type": "code",
   "execution_count": null,
   "metadata": {},
   "outputs": [],
   "source": [
    "ml_model = ML_model()\n",
    "ml_model.prep_price_preds(o_df)\n",
    "ml_model.data.head(5)"
   ]
  },
  {
   "cell_type": "code",
   "execution_count": null,
   "metadata": {},
   "outputs": [],
   "source": [
    "ml_model.data['number_of_reviews'].mean( skipna = True) "
   ]
  },
  {
   "cell_type": "code",
   "execution_count": null,
   "metadata": {},
   "outputs": [],
   "source": [
    "ml_model.geo_dict"
   ]
  },
  {
   "cell_type": "code",
   "execution_count": null,
   "metadata": {},
   "outputs": [],
   "source": [
    "geo_dict = {}\n",
    "for index, row in ml_model.data.iterrows(): \n",
    "    if row['neighbourhood_group'] not in geo_dict:\n",
    "        geo_dict[row['neighbourhood_group']]={}\n",
    "    if row['neighbourhood'] not in geo_dict[row['neighbourhood_group']]:\n",
    "        geo_dict[row['neighbourhood_group']][row['neighbourhood']] = [0,0]\n",
    "geo_dict\n",
    "    \n"
   ]
  },
  {
   "cell_type": "code",
   "execution_count": null,
   "metadata": {},
   "outputs": [],
   "source": [
    "for key in geo_dict.keys():\n",
    "    \n",
    "    t_df = ml_model.data[ml_model.data['neighbourhood_group'] == key]\n",
    "    for neigh in geo_dict[key].keys():\n",
    "        \n",
    "        df = t_df[t_df['neighbourhood'] == neigh]\n",
    "        geo_dict[key][neigh][0] = df['latitude'].mean(skipna = True) \n",
    "        geo_dict[key][neigh][1] = df['longitude'].mean(skipna = True) \n",
    "\n",
    "geo_dict"
   ]
  },
  {
   "cell_type": "code",
   "execution_count": 25,
   "metadata": {},
   "outputs": [
    {
     "data": {
      "text/html": [
       "<div>\n",
       "<style scoped>\n",
       "    .dataframe tbody tr th:only-of-type {\n",
       "        vertical-align: middle;\n",
       "    }\n",
       "\n",
       "    .dataframe tbody tr th {\n",
       "        vertical-align: top;\n",
       "    }\n",
       "\n",
       "    .dataframe thead th {\n",
       "        text-align: right;\n",
       "    }\n",
       "</style>\n",
       "<table border=\"1\" class=\"dataframe\">\n",
       "  <thead>\n",
       "    <tr style=\"text-align: right;\">\n",
       "      <th></th>\n",
       "      <th>id</th>\n",
       "      <th>name</th>\n",
       "      <th>host_id</th>\n",
       "      <th>host_name</th>\n",
       "      <th>neighbourhood_group</th>\n",
       "      <th>neighbourhood</th>\n",
       "      <th>latitude</th>\n",
       "      <th>longitude</th>\n",
       "      <th>room_type</th>\n",
       "      <th>price</th>\n",
       "      <th>minimum_nights</th>\n",
       "      <th>number_of_reviews</th>\n",
       "      <th>last_review</th>\n",
       "      <th>reviews_per_month</th>\n",
       "      <th>calculated_host_listings_count</th>\n",
       "      <th>availability_365</th>\n",
       "    </tr>\n",
       "  </thead>\n",
       "  <tbody>\n",
       "    <tr>\n",
       "      <th>3304</th>\n",
       "      <td>21855881</td>\n",
       "      <td>Where Luxury City Living Reaches New Heights.</td>\n",
       "      <td>28954164</td>\n",
       "      <td>Michelle</td>\n",
       "      <td>Central Region</td>\n",
       "      <td>Tanglin</td>\n",
       "      <td>1.31743</td>\n",
       "      <td>103.82931</td>\n",
       "      <td>Private room</td>\n",
       "      <td>81</td>\n",
       "      <td>1000</td>\n",
       "      <td>0</td>\n",
       "      <td>0</td>\n",
       "      <td>0.0</td>\n",
       "      <td>3</td>\n",
       "      <td>365</td>\n",
       "    </tr>\n",
       "  </tbody>\n",
       "</table>\n",
       "</div>"
      ],
      "text/plain": [
       "            id                                           name   host_id  \\\n",
       "3304  21855881  Where Luxury City Living Reaches New Heights.  28954164   \n",
       "\n",
       "     host_name neighbourhood_group neighbourhood  latitude  longitude  \\\n",
       "3304  Michelle      Central Region       Tanglin   1.31743  103.82931   \n",
       "\n",
       "         room_type  price  minimum_nights  number_of_reviews last_review  \\\n",
       "3304  Private room     81            1000                  0           0   \n",
       "\n",
       "      reviews_per_month  calculated_host_listings_count  availability_365  \n",
       "3304                0.0                               3               365  "
      ]
     },
     "execution_count": 25,
     "metadata": {},
     "output_type": "execute_result"
    }
   ],
   "source": [
    "o_df[o_df['minimum_nights']>900]"
   ]
  },
  {
   "cell_type": "code",
   "execution_count": null,
   "metadata": {},
   "outputs": [],
   "source": [
    "df = prep_price_preds(o_df)"
   ]
  },
  {
   "cell_type": "code",
   "execution_count": null,
   "metadata": {},
   "outputs": [],
   "source": []
  },
  {
   "cell_type": "code",
   "execution_count": null,
   "metadata": {},
   "outputs": [],
   "source": [
    "ml_model.build_model()"
   ]
  },
  {
   "cell_type": "code",
   "execution_count": null,
   "metadata": {},
   "outputs": [],
   "source": [
    "o_df.head(5)"
   ]
  },
  {
   "cell_type": "code",
   "execution_count": null,
   "metadata": {},
   "outputs": [],
   "source": []
  }
 ],
 "metadata": {
  "kernelspec": {
   "display_name": "Python 3",
   "language": "python",
   "name": "python3"
  },
  "language_info": {
   "codemirror_mode": {
    "name": "ipython",
    "version": 3
   },
   "file_extension": ".py",
   "mimetype": "text/x-python",
   "name": "python",
   "nbconvert_exporter": "python",
   "pygments_lexer": "ipython3",
   "version": "3.7.0"
  }
 },
 "nbformat": 4,
 "nbformat_minor": 2
}
